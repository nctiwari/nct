{
 "cells": [
  {
   "cell_type": "code",
   "execution_count": 23,
   "metadata": {},
   "outputs": [
    {
     "name": "stdout",
     "output_type": "stream",
     "text": [
      "Cummulative Multiplication :  5040  === Cummulative Sum :  28\n"
     ]
    }
   ],
   "source": [
    "#1.1  Write a Python Program to implement your own myreduce() function which works exactly like Python's \n",
    "# built-in function reduce\n",
    "\n",
    "l1 = [1,2,3,4,5,6,7]\n",
    "\n",
    "def multiply(num1, num2):\n",
    "    return num1 * num2\n",
    "\n",
    "def cumsum(num1, num2):\n",
    "    return num1 + num2\n",
    "\n",
    "def myreduce(func,num_list):\n",
    "    for i in range(len(num_list)):\n",
    "        if i == 0 :\n",
    "            initial = num_list[i]\n",
    "        else:\n",
    "            initial = func(initial, num_list[i])\n",
    "    return initial \n",
    "\n",
    "cum_multi = myreduce(multiply, l1)\n",
    "cum_sum = myreduce(cumsum, l1)\n",
    "\n",
    "print('Cummulative Multiplication : ',cum_multi,' === Cummulative Sum : ', cum_sum)"
   ]
  },
  {
   "cell_type": "code",
   "execution_count": 45,
   "metadata": {},
   "outputs": [
    {
     "name": "stdout",
     "output_type": "stream",
     "text": [
      "Output List :  [2, 4, 6]\n"
     ]
    }
   ],
   "source": [
    "#1.2 Write a Python program to implement your own myfilter() function which works exactly like\n",
    "# Python's built-in function filter()\n",
    "\n",
    "l1 = [1,2,3,4,5,6,7]\n",
    "\n",
    "def even_check(num):\n",
    "    if num%2 ==0:\n",
    "        return True\n",
    "\n",
    "def myfilter(func,num_list):\n",
    "    list_1 = []\n",
    "    for i in range(len(num_list)):\n",
    "        if func(num_list[i]):\n",
    "            list_1.append(num_list[i]) \n",
    "    return list_1\n",
    "\n",
    "my_list = myfilter(even_check, l1)\n",
    "             \n",
    "print('Output List : ',my_list)"
   ]
  },
  {
   "cell_type": "code",
   "execution_count": 60,
   "metadata": {},
   "outputs": [
    {
     "name": "stdout",
     "output_type": "stream",
     "text": [
      "['A', 'C', 'A', 'D', 'G', 'I', 'L', 'D']\n",
      "['x', 'xx', 'xxx', 'xxxx', 'y', 'yy', 'yyy', 'yyyy', 'z', 'zz', 'zzz', 'zzzz']\n",
      "['x', 'y', 'z', 'xx', 'yy', 'zz', 'xxxx', 'yyyy', 'zzzz']\n"
     ]
    }
   ],
   "source": [
    "#2.\n",
    "#Implement List comprehensions to produce the following lists.\n",
    "#Write List comprehensions to produce the following Lists\n",
    "#['A', 'C', 'A', 'D', 'G', 'I', ’L’, ‘ D’]\n",
    "#['x', 'xx', 'xxx', 'xxxx', 'y', 'yy', 'yyy', 'yyyy', 'z', 'zz', 'zzz', 'zzzz']\n",
    "#['x', 'y', 'z', 'xx', 'yy', 'zz', 'xx', 'yy', 'zz', 'xxxx', 'yyyy', 'zzzz']\n",
    "[[2], [3], [4], [3], [4], [5], [4], [5], [6]]\n",
    "[[2, 3, 4, 5], [3, 4, 5, 6], [4, 5, 6, 7], [5, 6, 7, 8]]\n",
    "[(1, 1), (2, 1), (3, 1), (1, 2), (2, 2), (3, 2), (1, 3), (2, 3), (3, 3)]\n",
    "\n",
    "\n",
    "l1 = ['A', 'C']\n",
    "l2 = ['A','D']\n",
    "l3 = ['G','I']\n",
    "l4 = ['L','D']\n",
    "\n",
    "my_list_1 = l1 + l2 + l3 + l4\n",
    "print(my_list_1)\n",
    "\n",
    "list_1 = ['x','y','z']\n",
    "\n",
    "\n",
    "my_list_2 =[]\n",
    "for i in range(len(list_1)):\n",
    "    my_list_2.append(list_1[i])\n",
    "    my_list_2.append(list_1[i]*2)\n",
    "    my_list_2.append(list_1[i]*3)\n",
    "    my_list_2.append(list_1[i]*4)\n",
    "\n",
    "print(my_list_2)\n",
    "\n",
    "list_2 = ['x','y','z']\n",
    "list_count = [1,2,4]\n",
    "my_list_3 =[]\n",
    "\n",
    "for count in range(len(list_count)):\n",
    "    for i in range(len(list_2)):\n",
    "        my_list_3.append(list_2[i]*list_count[count])\n",
    "\n",
    "print(my_list_3)\n",
    "\n"
   ]
  },
  {
   "cell_type": "code",
   "execution_count": 21,
   "metadata": {},
   "outputs": [
    {
     "name": "stdout",
     "output_type": "stream",
     "text": [
      "[[2], [3], [4], [3], [4], [5], [4], [5], [6]]\n",
      "[[2, 3, 4, 5], [3, 4, 5, 6], [4, 5, 6, 7], [5, 6, 7, 8]]\n",
      "[(1, 1), (2, 1), (3, 1), (1, 2), (2, 2), (3, 2), (1, 3), (2, 3), (3, 3)]\n"
     ]
    }
   ],
   "source": [
    "#[[2], [3], [4], [3], [4], [5], [4], [5], [6]]\n",
    "l1 = [2]\n",
    "\n",
    "my_list_4 = [l1]\n",
    "\n",
    "for i in range(8):\n",
    "    if i < 2:\n",
    "        l_temp =[l1[0]+(i+1)]\n",
    "        my_list_4.append(l_temp)\n",
    "    elif i < 5:\n",
    "        l_temp =[l1[0]+(i-1)]\n",
    "        my_list_4.append(l_temp)\n",
    "    else:\n",
    "        l_temp =[l1[0]+(i-3)]\n",
    "        my_list_4.append(l_temp)\n",
    "\n",
    "print(my_list_4)\n",
    "\n",
    "#[[2, 3, 4, 5], [3, 4, 5, 6], [4, 5, 6, 7], [5, 6, 7, 8]]\n",
    "l1 = [2, 3, 4, 5]\n",
    "\n",
    "my_list_5 = [l1]\n",
    "\n",
    "for i in range(3):\n",
    "    l_temp =[(l1[0]+(i+1)),\n",
    "             (l1[1]+(i+1)),\n",
    "             (l1[2]+(i+1)),\n",
    "             (l1[3]+(i+1))]\n",
    "    my_list_5.append(l_temp)\n",
    "\n",
    "print(my_list_5)\n",
    "\n",
    "#[(1, 1), (2, 1), (3, 1), (1, 2), (2, 2), (3, 2), (1, 3), (2, 3), (3, 3)]\n",
    "my_tup_1 =(1,1)\n",
    "my_list_tmp = list(my_tup_1)\n",
    "my_list_6 = []\n",
    "\n",
    "for j in range(3):\n",
    "    for i in range(3):\n",
    "        my_list_tmp[0] = i+1\n",
    "        my_list_tmp[1] = j+1\n",
    "        my_tup_1 = tuple(my_list_tmp)\n",
    "        my_list_6.append(my_tup_1)\n",
    "\n",
    "print(my_list_6)"
   ]
  },
  {
   "cell_type": "code",
   "execution_count": 21,
   "metadata": {},
   "outputs": [
    {
     "name": "stdout",
     "output_type": "stream",
     "text": [
      "Please give word list : i am going to market\n",
      "market\n"
     ]
    }
   ],
   "source": [
    "#3. Implement a function longestWord() that takes a list of words and returns the longest one.\n",
    "\n",
    "def LongestWord(sen): \n",
    "    word = sen.split()\n",
    "    word.sort(key = lambda x: len(x))\n",
    "    return word[-1]\n",
    "\n",
    "key_input = input(\"Please give word list : \")\n",
    "long_word = LongestWord(key_input) \n",
    "\n",
    "print(long_word) "
   ]
  },
  {
   "cell_type": "code",
   "execution_count": 26,
   "metadata": {},
   "outputs": [
    {
     "name": "stdout",
     "output_type": "stream",
     "text": [
      "Please enter the first side of a triangle: 4\n",
      "Please enter the second side of a triangle: 5\n",
      "Please enter the third side of a triangle: 5\n",
      "9.16515138991168\n"
     ]
    }
   ],
   "source": [
    "### Task 2:\n",
    "# 1.1  Write a Python Program(with class concepts) to find the area of the triangle using the below formula.\n",
    "# area = (s*(s-a)*(s-b)*(s-c)) ** 0.5\n",
    "# Function to take the length of the sides of triangle from user should be defined in the parent class and function \n",
    "# to calculate the area should be defined in subclass.\n",
    "\n",
    "import sys\n",
    "import math\n",
    " \n",
    "a = int(input('Please enter the first side of a triangle: '))\n",
    "b = int(input('Please enter the second side of a triangle: '))\n",
    "c = int(input('Please enter the third side of a triangle: '))\n",
    "\n",
    "class triangle():\n",
    "    def __init__(self,a,b,c):\n",
    "        self.a = a\n",
    "        self.b = b\n",
    "        self.c = c\n",
    "        \n",
    "    def area(self):\n",
    "        s=(a + b + c)/2\n",
    "        area=math.sqrt(s*(s-a)*(s-b)*(s-c))\n",
    "        return area\n",
    "\n",
    "t = triangle(a, b, c)\n",
    "print(t.area())"
   ]
  },
  {
   "cell_type": "code",
   "execution_count": 50,
   "metadata": {},
   "outputs": [
    {
     "name": "stdout",
     "output_type": "stream",
     "text": [
      "Enter words : apple banana grapes orange\n",
      "Length of words to keep: 6\n",
      "Words longer than  6  are  ['banana', 'grapes', 'orange']\n"
     ]
    }
   ],
   "source": [
    "#1.2 Write a function filter_long_words() that takes a list of words and an integer n and returns the list\n",
    "# of words that are longer than n.\n",
    "\n",
    "def filter_long_words(wordlist, length):\n",
    "    word_list = []\n",
    "    for word in wordlist:\n",
    "        if len(word) >= length:\n",
    "            word_list.append(word)\n",
    "    return word_list\n",
    "\n",
    "words = input(\"Enter words : \").split()\n",
    "length = int(input(\"Length of words to keep: \"))\n",
    "result = filter_long_words(words, length)\n",
    "\n",
    "print('Words longer than ', length, ' are ', result)\n"
   ]
  },
  {
   "cell_type": "code",
   "execution_count": 4,
   "metadata": {},
   "outputs": [
    {
     "name": "stdout",
     "output_type": "stream",
     "text": [
      "Enter words : apple banana grapes orange\n",
      "length of words  ['apple', 'banana', 'grapes', 'orange']  are  [5, 6, 6, 6]\n"
     ]
    }
   ],
   "source": [
    "#2.1 Write a Python program using function concept that maps list of words into a list of integers \n",
    "# representing the lengths of the corresponding words .\n",
    "# Hint: If a list [ ab,cde,erty] is passed on to the python function output should come as [2,3,4]\n",
    "# Here 2,3 and 4 are the lengths of the words in the list.\n",
    "\n",
    "def find_word_length(wordlist):\n",
    "    word_list = []\n",
    "    for word in wordlist:\n",
    "        word_list.append(len(word))\n",
    "    return word_list\n",
    "\n",
    "words = input(\"Enter words : \").split()\n",
    "result = find_word_length(words)\n",
    "\n",
    "print('length of words ', words,' are ', result)"
   ]
  },
  {
   "cell_type": "code",
   "execution_count": 24,
   "metadata": {},
   "outputs": [
    {
     "name": "stdout",
     "output_type": "stream",
     "text": [
      "Enter character  : b\n",
      "Character entered is not Vowel\n"
     ]
    }
   ],
   "source": [
    "#2.2 Write a Python function which takes a character (i.e. a string of length 1) and returns True if it is\n",
    "# a vowel, False otherwise.\n",
    "\n",
    "def find_vowel(word):\n",
    "\n",
    "    vowel_list = ['a','e','i','o','u','A','E','O','I','U']\n",
    "    if word in vowel_list:\n",
    "        print('Character entered is Vowel')\n",
    "    else:\n",
    "        print('Character entered is not Vowel')\n",
    "    return\n",
    "\n",
    "words = input(\"Enter character  : \")\n",
    "\n",
    "find_vowel(words)\n"
   ]
  },
  {
   "cell_type": "code",
   "execution_count": null,
   "metadata": {},
   "outputs": [],
   "source": []
  }
 ],
 "metadata": {
  "kernelspec": {
   "display_name": "Python 3",
   "language": "python",
   "name": "python3"
  },
  "language_info": {
   "codemirror_mode": {
    "name": "ipython",
    "version": 3
   },
   "file_extension": ".py",
   "mimetype": "text/x-python",
   "name": "python",
   "nbconvert_exporter": "python",
   "pygments_lexer": "ipython3",
   "version": "3.7.4"
  }
 },
 "nbformat": 4,
 "nbformat_minor": 2
}
